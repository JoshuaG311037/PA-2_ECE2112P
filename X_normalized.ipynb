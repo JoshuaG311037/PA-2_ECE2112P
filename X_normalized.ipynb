{
 "cells": [
  {
   "cell_type": "markdown",
   "id": "ae9938a1-bdfa-438f-bd7f-8f01fedf2640",
   "metadata": {},
   "source": [
    "# Programming Assignment 2\n",
    "### Normalization Problem"
   ]
  },
  {
   "cell_type": "code",
   "execution_count": 3,
   "id": "f7a9eb09-eed3-4bc6-933a-52dc2d228079",
   "metadata": {},
   "outputs": [],
   "source": [
    "import numpy as np"
   ]
  },
  {
   "cell_type": "code",
   "execution_count": 4,
   "id": "2c279090-30cc-449f-8d58-aeae43bdb06d",
   "metadata": {},
   "outputs": [
    {
     "name": "stdout",
     "output_type": "stream",
     "text": [
      "Orig:\n",
      " [[0.51478061 0.80345792 0.62968193 0.92841289 0.09024046]\n",
      " [0.89554512 0.45655057 0.79722145 0.89725721 0.71467713]\n",
      " [0.40251815 0.304411   0.28972314 0.85954808 0.80793295]\n",
      " [0.01222776 0.77373097 0.13792825 0.16305959 0.25668629]\n",
      " [0.18488864 0.87136018 0.21609973 0.28125021 0.44967161]]\n",
      "\n",
      "Norm:\n",
      " [[ 0.01757819  0.98854886  0.40405059  1.40883689 -1.41036929]\n",
      " [ 1.29828563 -0.17827947  0.96757239  1.30404427  0.68993327]\n",
      " [-0.36001837 -0.6900033  -0.73940616  1.17720902  1.0036007 ]\n",
      " [-1.67276624  0.88856181 -1.24997066 -1.16544098 -0.85052613]\n",
      " [-1.09201862  1.2169392  -0.98703964 -0.767905   -0.20141697]]\n"
     ]
    }
   ],
   "source": [
    "\n",
    "\n",
    "# Random 5x5 ndarray\n",
    "X = np.random.rand(5, 5)\n",
    "\n",
    "# Normalize the ndarray\n",
    "normalized_X = (X - X.mean()) / X.std()\n",
    "\n",
    "# Original / normalized\n",
    "print(f\"Orig:\\n {X}\\n\")\n",
    "print(f\"Norm:\\n {normalized_X}\")"
   ]
  },
  {
   "cell_type": "code",
   "execution_count": null,
   "id": "5b43afaa-cc9f-4ea6-971c-b0c96949256f",
   "metadata": {},
   "outputs": [],
   "source": []
  }
 ],
 "metadata": {
  "kernelspec": {
   "display_name": "Python [conda env:base] *",
   "language": "python",
   "name": "conda-base-py"
  },
  "language_info": {
   "codemirror_mode": {
    "name": "ipython",
    "version": 3
   },
   "file_extension": ".py",
   "mimetype": "text/x-python",
   "name": "python",
   "nbconvert_exporter": "python",
   "pygments_lexer": "ipython3",
   "version": "3.13.5"
  }
 },
 "nbformat": 4,
 "nbformat_minor": 5
}
